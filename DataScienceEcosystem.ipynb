{
 "cells": [
  {
   "cell_type": "markdown",
   "id": "70298561-c601-40c2-8a49-f4fb70f5a343",
   "metadata": {},
   "source": [
    "# Data Science Tools and Ecosystem"
   ]
  },
  {
   "cell_type": "markdown",
   "id": "c2d0d410-ff4a-4a48-927c-3948b01b82fb",
   "metadata": {},
   "source": [
    "In this notebook, Data Science Tools and Ecosystem are summarized."
   ]
  },
  {
   "cell_type": "markdown",
   "id": "ed82f58d-c68a-49be-b6bf-2b5dd9287de8",
   "metadata": {},
   "source": [
    "#### Some of the popular languages that Data Scientists use are:\n",
    "1. Python\n",
    "2. R\n",
    "3. SQL\n"
   ]
  },
  {
   "cell_type": "markdown",
   "id": "5fb6eae4-5c8a-40db-bf3a-f862de0a8f8c",
   "metadata": {},
   "source": [
    "#### Some of the commonly used libraries used by Data Scientists include:\n",
    "1. Numpy\n",
    "2. Pandas\n",
    "3. Matplotlib\n",
    "4. ggplot2"
   ]
  },
  {
   "cell_type": "markdown",
   "id": "3ae482d1-54a1-4255-9e7d-7b8175a8be1a",
   "metadata": {
    "tags": []
   },
   "source": [
    "|Data Science Tools                                        |\n",
    "|:-                                                        |\n",
    "|Python, R, Julia, SQL                                     |\n",
    "|Pandas, dplyr, tidyr, SQL                                 |\n",
    "|Matplotlib, Seaborn, ggplot2, Tableau, Power BI           | \n",
    "|SQLite, MySQL, PostgreSQL, MongoDB                        |\n",
    "|Git, GitHub, GitLab, Bitbucket                            |\n",
    "|Jupyter Notebooks, RStudio, VS Code with Jupyter extension|\n",
    "|Visual Studio Code, PyCharm, RStudio, JupyterLab          |\n",
    "|Scikit-learn, TensorFlow, PyTorch, Keras, caret           |"
   ]
  },
  {
   "cell_type": "markdown",
   "id": "2c658583-d34e-4c1b-9d6a-4a34e1858a6f",
   "metadata": {},
   "source": [
    "### Below are a few examples of evaluating arithmetic expressions in Python\n",
    "- **Addition (+):**\n",
    "  - Example: \\( 3 + 5 = 8 \\)\n",
    "\n",
    "- **Subtraction (-):** \n",
    "  - Example: \\( 9 - 4 = 5 \\)\n",
    "\n",
    "- **Multiplication (*):** \n",
    "  - Example: \\( 6 \\times 7 = 42 \\)\n",
    "\n",
    "- **Division (/):**\n",
    "  - Example: \\( 15 / 3 = 5 \\)\n"
   ]
  },
  {
   "cell_type": "markdown",
   "id": "e2373172-fe91-46e7-8655-2e60dc1267c7",
   "metadata": {
    "tags": []
   },
   "source": [
    "<!--- This a simple arithmetic expression to mutiply then add integers -->\n",
    "\n"
   ]
  },
  {
   "cell_type": "code",
   "execution_count": 6,
   "id": "08f2076d-7766-4507-a363-ee5565895612",
   "metadata": {
    "tags": []
   },
   "outputs": [
    {
     "data": {
      "text/plain": [
       "17"
      ]
     },
     "execution_count": 6,
     "metadata": {},
     "output_type": "execute_result"
    }
   ],
   "source": [
    "(3*4)+5"
   ]
  },
  {
   "cell_type": "markdown",
   "id": "4ac6ee4f-6357-4e2a-9553-6e693d561cf2",
   "metadata": {
    "tags": []
   },
   "source": [
    "<!---his will convert 200 minutes to hours by diving by 60 -->"
   ]
  },
  {
   "cell_type": "code",
   "execution_count": 8,
   "id": "5b8a37c3-b5c1-4e05-83ed-0f9d24733dfb",
   "metadata": {
    "tags": []
   },
   "outputs": [
    {
     "name": "stdout",
     "output_type": "stream",
     "text": [
      "Enter time in minutes 200\n"
     ]
    },
    {
     "name": "stdout",
     "output_type": "stream",
     "text": [
      "Hours= 3\n",
      "Minutes= 20\n"
     ]
    }
   ],
   "source": [
    "min=int(input(\"Enter time in minutes\"))\n",
    "hour=min//60\n",
    "min=min%60\n",
    "print(\"Hours=\",hour)\n",
    "print(\"Minutes=\",min)"
   ]
  },
  {
   "cell_type": "markdown",
   "id": "1644ca4d-a3e3-4b09-8bcd-64fa95f84a59",
   "metadata": {
    "tags": []
   },
   "source": [
    "**Objectives:**\n",
    "- Text formating\n",
    "- Documentation\n",
    "- Mathematical Expressions\n",
    "\n",
    "**List popular languages for Data Science**\n",
    "- Python\n",
    "- R\n",
    "- SQL"
   ]
  },
  {
   "cell_type": "markdown",
   "id": "3fb19a93-7c52-4a90-9f0e-aa5bbbbfa111",
   "metadata": {},
   "source": [
    "## Author:  \n",
    "Yazhini"
   ]
  },
  {
   "cell_type": "code",
   "execution_count": null,
   "id": "6926da33-bc9f-4a15-9cf2-f8db17cd40e5",
   "metadata": {},
   "outputs": [],
   "source": []
  }
 ],
 "metadata": {
  "kernelspec": {
   "display_name": "Python",
   "language": "python",
   "name": "conda-env-python-py"
  },
  "language_info": {
   "codemirror_mode": {
    "name": "ipython",
    "version": 3
   },
   "file_extension": ".py",
   "mimetype": "text/x-python",
   "name": "python",
   "nbconvert_exporter": "python",
   "pygments_lexer": "ipython3",
   "version": "3.7.12"
  }
 },
 "nbformat": 4,
 "nbformat_minor": 5
}
